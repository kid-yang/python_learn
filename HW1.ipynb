{
 "cells": [
  {
   "cell_type": "code",
   "execution_count": 2,
   "metadata": {},
   "outputs": [],
   "source": [
    "import numpy as np"
   ]
  },
  {
   "cell_type": "code",
   "execution_count": 3,
   "metadata": {},
   "outputs": [
    {
     "name": "stdout",
     "output_type": "stream",
     "text": [
      "[ 0  1  2  3  4  5  6  7  8  9 10 11 12 13 14 15 16 17 18 19 20]\n"
     ]
    }
   ],
   "source": [
    "#1.生成一個等差數列，首數為0，尾數為20，公差為1的數列。\n",
    "a = np.arange(0,21,1)\n",
    "print(a)"
   ]
  },
  {
   "cell_type": "code",
   "execution_count": 4,
   "metadata": {
    "scrolled": true
   },
   "outputs": [
    {
     "name": "stdout",
     "output_type": "stream",
     "text": [
      "[ 0  2  4  6  8 10 12 14 16 18 20]\n"
     ]
    }
   ],
   "source": [
    "#2.呈上題，將以上數列取出偶數。\n",
    "b=a[a%2==0]\n",
    "print(b)"
   ]
  },
  {
   "cell_type": "code",
   "execution_count": 22,
   "metadata": {},
   "outputs": [
    {
     "name": "stdout",
     "output_type": "stream",
     "text": [
      "[ 3  6  9 12 15 18]\n"
     ]
    }
   ],
   "source": [
    "#3.呈1題，將數列取出3的倍數。\n",
    "c=a[a%3==0]\n",
    "print(c)"
   ]
  },
  {
   "cell_type": "code",
   "execution_count": 17,
   "metadata": {},
   "outputs": [
    {
     "name": "stdout",
     "output_type": "stream",
     "text": [
      "[[ 1  2  3  4  5  6  7  8  9 10]\n",
      " [11 12 13 14 15 16 17 18 19 20]]\n",
      "-------------\n",
      "[array([ 1,  2,  3,  4,  5,  6,  7,  8,  9, 10]), array([11, 12, 13, 14, 15, 16, 17, 18, 19, 20])] \n",
      " <class 'numpy.ndarray'>\n",
      "-------------\n",
      "[[1, 2, 3, 4, 5, 6, 7, 8, 9, 10], [11, 12, 13, 14, 15, 16, 17, 18, 19, 20]] \n",
      " <class 'list'>\n"
     ]
    }
   ],
   "source": [
    "#4.[簡答題] 請問下列兩種將 Array 轉換成 List 的方式有何不同？\n",
    "#list(a)只會轉換表層元素為list\n",
    "a=np.arange(1,21,1).reshape(2,10)\n",
    "print(a)\n",
    "print('-------------')\n",
    "print(list(a),'\\n',type(list(a)[0]))\n",
    "print('-------------')\n",
    "#tolist()會把每層元素轉換成list\n",
    "print(a.tolist(),'\\n',type(a.tolist()[0]))"
   ]
  },
  {
   "cell_type": "code",
   "execution_count": 21,
   "metadata": {},
   "outputs": [
    {
     "name": "stdout",
     "output_type": "stream",
     "text": [
      "[[ 1  2  3  4  5  6  7  8  9 10]\n",
      " [11 12 13 14 15 16 17 18 19 20]]\n",
      "ndim : 2\n",
      "shape : (2, 10)\n",
      "size : 20\n",
      "dtype : int32\n",
      "itemsize : 4\n",
      "length : 2\n",
      "type : <class 'numpy.ndarray'>\n"
     ]
    }
   ],
   "source": [
    "#5.請試著在程式中印出以下三個 NdArray 的屬性？\n",
    "#(屬性：ndim、shape、size、dtype、itemsize、length、type）\n",
    "print(a)\n",
    "print('ndim',':',a.ndim)#顯示維度大小\n",
    "print('shape',':',a.shape)#顯示每個維度元素數量\n",
    "print('size',':',a.size)#顯示矩陣內元素總數量\n",
    "print('dtype',':',a.dtype)#顯示矩陣內元素資料型態\n",
    "print('itemsize',':',a.itemsize)#顯示矩陣內每個元素所佔記憶體空間\n",
    "print('length',':',len(a))#顯示最外層元素總數\n",
    "print('type',':',type(a))#顯示矩陣的資料型態"
   ]
  },
  {
   "cell_type": "code",
   "execution_count": 23,
   "metadata": {},
   "outputs": [
    {
     "name": "stdout",
     "output_type": "stream",
     "text": [
      "[[1, 2, 3, 4, 5, 6, 7, 8, 9, 10], [11, 12, 13, 14, 15, 16, 17, 18, 19, 20]]\n"
     ]
    }
   ],
   "source": [
    "#6.如何利用 list(...) 實現 a.tolist() 的效果？試著用程式實作。\n",
    "a=np.arange(1,21,1).reshape(2,10)\n",
    "nums=np.arange(len(a))\n",
    "b=[] # or b=list()\n",
    "for i in nums:\n",
    "    b.append(list(a[i]))#在list末尾增加更多元素\n",
    "    \n",
    "print(b)"
   ]
  },
  {
   "cell_type": "code",
   "execution_count": null,
   "metadata": {},
   "outputs": [],
   "source": []
  }
 ],
 "metadata": {
  "kernelspec": {
   "display_name": "Python 3",
   "language": "python",
   "name": "python3"
  },
  "language_info": {
   "codemirror_mode": {
    "name": "ipython",
    "version": 3
   },
   "file_extension": ".py",
   "mimetype": "text/x-python",
   "name": "python",
   "nbconvert_exporter": "python",
   "pygments_lexer": "ipython3",
   "version": "3.8.3"
  }
 },
 "nbformat": 4,
 "nbformat_minor": 4
}
